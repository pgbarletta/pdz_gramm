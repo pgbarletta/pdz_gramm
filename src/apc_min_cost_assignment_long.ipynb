{
 "cells": [
  {
   "cell_type": "markdown",
   "metadata": {},
   "source": [
    "# Paso el min_cost en todas las matrices (modos) de neq y guardo:\n",
    "## - matrices finales\n",
    "## - eigenvalues\n",
    "## - ponderaciones\n",
    "# en \"min_cost_assigned\" p/ después ser leídos en los scripts de analysis"
   ]
  },
  {
   "cell_type": "code",
   "execution_count": 2,
   "metadata": {
    "collapsed": true
   },
   "outputs": [],
   "source": [
    "using DataFrames\n",
    "using Gadfly\n",
    "using Cairo\n",
    "using Distributions\n",
    "set_default_plot_size(40cm, 14cm)"
   ]
  },
  {
   "cell_type": "code",
   "execution_count": 3,
   "metadata": {
    "collapsed": false
   },
   "outputs": [
    {
     "data": {
      "text/plain": [
       "read_ptraj_modes (generic function with 3 methods)"
      ]
     },
     "execution_count": 3,
     "metadata": {},
     "output_type": "execute_result"
    }
   ],
   "source": [
    "function read_ptraj_modes(file, modes_elements, nmodes::Int64=0, norma::Bool=true)    \n",
    "\n",
    "    modes_file=open(file, \"r\")\n",
    "    modes_text = readdlm(modes_file, skipstart=0, skipblanks=true, \n",
    "    comments=true, comment_char='\\*')\n",
    "    close(modes_file)\n",
    "\n",
    "    if nmodes == 0\n",
    "        nmodes = modes_text[1, 5]\n",
    "    end\n",
    "    ncoords = convert(Int64, modes_elements)\n",
    "    lines = ceil(Int64, ncoords/7)\n",
    "    rest = convert(Int64, ncoords % 7)\n",
    "    \n",
    "    eval=Array{Float64}(nmodes);\n",
    "    mode = Array{Float64}(ncoords, nmodes);\n",
    "    temp1=Array{Float64}(ncoords, 1);\n",
    "    temp2 = Array{Float64}(ncoords+(7-rest));\n",
    "\n",
    "    j=lines + 1 + 2 # 1 p/ q lea la prox linea 2 por el header\n",
    "\n",
    "    for i=1:nmodes\n",
    "        eval[i] = modes_text[j, 2]\n",
    "        temp = permutedims(modes_text[(j+1):(lines+j), :], [2, 1])\n",
    "        temp2 = reshape(temp, ncoords+(7-rest))\n",
    "        for k=(rest+1):7\n",
    "            pop!(temp2)\n",
    "        end\n",
    "    mode[:, i] = temp2\n",
    "        j = j + lines + 1\n",
    "    end\n",
    "    \n",
    "    if norma == true\n",
    "        for i=1:nmodes\n",
    "            mode[: ,i] = mode[:, i] / norm(mode[:, i])\n",
    "        end\n",
    "    end\n",
    "    \n",
    "    return mode, eval\n",
    "end"
   ]
  },
  {
   "cell_type": "code",
   "execution_count": 4,
   "metadata": {
    "collapsed": false
   },
   "outputs": [],
   "source": [
    "# Preparo variables\n",
    "aa = 101\n",
    "aa3 = aa * 3\n",
    "aa3_6 = aa3 - 6\n",
    "n_frames = 400\n",
    "main_dir_long = \"/home/german/labo/16/pdz_gramm/long/\"\n",
    "neq_dir = \"lb_dats/\"\n",
    "neq_modes_dir = \"vecs/\"\n",
    "min_cost_modes_dir = \"min_cost_assigned/\"\n",
    "min_cost_modes_full_dir = \"min_cost_assigned_full/\"\n",
    "\n",
    "\n",
    "neq_pond_template = \"-lbnoteq_ca_mode_freq_nohist.dat\"       # ej: \"1\" * neq_pond_template\n",
    "neq_modes_template = \"lb_prod_vecs_ca_\"                      # ej: neq_modes_template * \"1\" * \".dat\"\n",
    "\n",
    "# Leo modos, eigenvalues y ponderaciones correspondientes al 1er frame\n",
    "pond_file = open(string(main_dir_long, neq_dir, 1, neq_pond_template), \"r\")\n",
    "modes_filename = string(main_dir_long, neq_modes_dir, neq_modes_template, 1, \".dat\")\n",
    "neq_modes_1, neq_eigen_1 = read_ptraj_modes(modes_filename, aa3);\n",
    "neq_pond_1 = readdlm(pond_file)[:, 2];"
   ]
  },
  {
   "cell_type": "code",
   "execution_count": 7,
   "metadata": {
    "collapsed": false
   },
   "outputs": [],
   "source": [
    "i = Array{Float64, 2}(aa3, aa3)\n",
    "i_ref = Ref{Array{Float64, 2}}(i)\n",
    "\n",
    "j = Array{Float64, 2}(aa3, aa3)\n",
    "j_ref = Ref{Array{Float64, 2}}(j)\n",
    "    \n",
    "ind = Array{Int64}(aa3)\n",
    "ind_ref = Ref{Array{Int64, 1}}(ind)\n",
    "\n",
    "aa3_ref = Ref{Int64}(aa3)\n",
    "\n",
    "ccall( (:apc_wrapper_, \"./apc_wrapper.so\"), Void,\n",
    "(Ref{Int64}, Ref{Int64},\n",
    "Ref{Array{Float64, 2}}, Ref{Array{Float64, 2}}, Ref{Int64}),\n",
    "aa3_ref, aa3_ref, i_ref, j_ref, ind)"
   ]
  },
  {
   "cell_type": "code",
   "execution_count": null,
   "metadata": {
    "collapsed": false
   },
   "outputs": [],
   "source": [
    "aa3_ref[]"
   ]
  },
  {
   "cell_type": "code",
   "execution_count": null,
   "metadata": {
    "collapsed": true
   },
   "outputs": [],
   "source": []
  },
  {
   "cell_type": "code",
   "execution_count": 15,
   "metadata": {
    "collapsed": true
   },
   "outputs": [],
   "source": [
    "nuevo = Array{Int64}(aa3)\n",
    "ccall( (:apc_wrapper_, \"./2apc_wrapper.so\"), Void,\n",
    "(Ref{Int64}, Ref{Int64},\n",
    "Ref{Array{Float64, 2}}, Ref{Array{Float64, 2}}, Ref{Int64}),\n",
    "aa3_ref, aa3_ref, i_ref, j_ref, nuevo)"
   ]
  },
  {
   "cell_type": "code",
   "execution_count": 17,
   "metadata": {
    "collapsed": false
   },
   "outputs": [],
   "source": [
    "nuevo3 = Array{Int64}(aa3)\n",
    "ccall( (:apc_wrapper_, \"./3apc_wrapper.so\"), Void,\n",
    "(Ref{Int64}, Ref{Int64},\n",
    "Ref{Array{Float64, 2}}, Ref{Array{Float64, 2}}, Ref{Int64}),\n",
    "aa3_ref, aa3_ref, i_ref, j_ref, nuevo3)"
   ]
  },
  {
   "cell_type": "markdown",
   "metadata": {},
   "source": [
    "##  Full width version"
   ]
  },
  {
   "cell_type": "code",
   "execution_count": null,
   "metadata": {
    "collapsed": true
   },
   "outputs": [],
   "source": [
    "# Escribo todo lo correspondiente al 1er frame.\n",
    "        # Store the current modes, eigenvalues, weights and sorting indices\n",
    "writetable(string(main_dir_long, min_cost_modes_full_dir, \"neq_mode_frame_\", 1),\n",
    "        DataFrame(neq_modes_1), header = false, separator = '\\t')\n",
    "writetable(string(main_dir_long, min_cost_modes_full_dir, \"neq_eigen_frame_\", 1),\n",
    "        DataFrame(y=neq_eigen_1), header = false, separator = '\\t')\n",
    "writetable(string(main_dir_long, min_cost_modes_full_dir, \"neq_pond_frame_\", 1),\n",
    "    DataFrame(y=neq_pond_1), header = false, separator = '\\t')\n",
    "writetable(string(main_dir_long, min_cost_modes_full_dir, \"neq_indices_frame_\", 1),\n",
    "    DataFrame(y=collect(1:aa3_6)), header = false, separator = '\\t')\n",
    "\n",
    "# Ahora lo de no equilibrio\n",
    "disponible = collect(1:aa3_6)\n",
    "indices = Array{Int64, 1}(aa3_6)\n",
    "\n",
    "for i in 2:n_frames\n",
    "    # Get ready\n",
    "    println(i)\n",
    "    pond_file = open(string(main_dir_long, neq_dir, i, neq_pond_template), \"r\")\n",
    "    modes_filename = string(main_dir_long, neq_modes_dir, neq_modes_template, i, \".dat\")\n",
    "    disponible = collect(1:aa3_6)\n",
    "    \n",
    "    # Get the modes/eigenvalues of the current subspace\n",
    "    neq_modes, neq_eigen = read_ptraj_modes(modes_filename, aa3);\n",
    "    # Get the coefficients for the ponderation\n",
    "    neq_pond = readdlm(pond_file)[:, 2];\n",
    "    # Get the projections\n",
    "    pjtions = transpose(neq_modes) * neq_modes_1;\n",
    "    \n",
    "    # Get the proper sorting of modes\n",
    "    for j=1:aa3_6\n",
    "        top = Int64\n",
    "        temp_1 = abs(pjtions[:, j])\n",
    "        index_ord_temp_1 = sortperm(temp_1, rev=true)\n",
    "        \n",
    "        for top in index_ord_temp_1\n",
    "            # Has the maximum overlaping mode already been assigned?\n",
    "            idx = findin(disponible, top)\n",
    "            if (length(idx) != 0)\n",
    "                # No, assign this mode as the corresponding one.\n",
    "                deleteat!(disponible, idx)\n",
    "                break;\n",
    "            end\n",
    "            # Yes, get the next most overlapping mode and be sure to keep track of \n",
    "            # the changes in the indices, due to removal of elements from 'temp_1'.\n",
    "        end\n",
    "        \n",
    "        indices[j] = top\n",
    "    end\n",
    "\n",
    "        # Store the current modes, eigenvalues, weights and sorting indices\n",
    "    writetable(string(main_dir_long, min_cost_modes_full_dir, \"neq_mode_frame_\", i),\n",
    "        DataFrame(neq_modes[:, indices]), header = false, separator = '\\t')\n",
    "    writetable(string(main_dir_long, min_cost_modes_full_dir, \"neq_eigen_frame_\", i),\n",
    "        DataFrame(y=neq_eigen[indices]), header = false, separator = '\\t')\n",
    "    writetable(string(main_dir_long, min_cost_modes_full_dir, \"neq_pond_frame_\", i),\n",
    "    DataFrame(y=neq_pond[indices]), header = false, separator = '\\t')\n",
    "    writetable(string(main_dir_long, min_cost_modes_full_dir, \"neq_indices_frame_\", i),\n",
    "        DataFrame(y=indices), header = false, separator = '\\t')\n",
    "end"
   ]
  },
  {
   "cell_type": "markdown",
   "metadata": {},
   "source": [
    "##  Limited width version"
   ]
  },
  {
   "cell_type": "code",
   "execution_count": null,
   "metadata": {
    "collapsed": false,
    "scrolled": true
   },
   "outputs": [],
   "source": [
    "# Escribo todo lo correspondiente al 1er frame.\n",
    "        # Store the current modes, eigenvalues, weights and sorting indices\n",
    "writetable(string(main_dir_long, min_cost_modes_dir, \"neq_mode_frame_\", 1),\n",
    "        DataFrame(neq_modes_1), header = false, separator = '\\t')\n",
    "writetable(string(main_dir_long, min_cost_modes_dir, \"neq_eigen_frame_\", 1),\n",
    "        DataFrame(y=neq_eigen_1), header = false, separator = '\\t')\n",
    "writetable(string(main_dir_long, min_cost_modes_dir, \"neq_pond_frame_\", 1),\n",
    "    DataFrame(y=neq_pond_1), header = false, separator = '\\t')\n",
    "writetable(string(main_dir_long, min_cost_modes_dir, \"neq_indices_frame_\", 1),\n",
    "    DataFrame(y=collect(1:aa3_6)), header = false, separator = '\\t')\n",
    "\n",
    "\n",
    "\n",
    "# Ahora lo de no equilibrio\n",
    "ancho = 10\n",
    "rango = collect(-ancho:1:ancho)\n",
    "disponible = collect(1:aa3_6)\n",
    "indices = Array{Int64, 1}(aa3_6)\n",
    "\n",
    "\n",
    "\n",
    "for i in 2:n_frames\n",
    "    # Get ready\n",
    "    println(i)\n",
    "    pond_file = open(string(main_dir_long, neq_dir, i, neq_pond_template), \"r\")\n",
    "    modes_filename = string(main_dir_long, neq_modes_dir, neq_modes_template, i, \".dat\")\n",
    "    disponible = collect(1:aa3_6)\n",
    "    \n",
    "    # Get the modes/eigenvalues of the current subspace\n",
    "    neq_modes, neq_eigen = read_ptraj_modes(modes_filename, aa3);\n",
    "    # Get the coefficients for the ponderation\n",
    "    neq_pond = readdlm(pond_file)[:, 2];\n",
    "    # Get the projections\n",
    "    pjtions = transpose(neq_modes) * neq_modes_1;\n",
    "    \n",
    "    # Get the proper sorting of modes\n",
    "    for j=1:aa3_6\n",
    "        chunk = rango[0 .< (rango.+j) .<= aa3_6 ] .+ j\n",
    "        n = length(chunk)\n",
    "        top = Int64\n",
    "        temp_1 = abs(pjtions[chunk, j])\n",
    "        index_ord_temp_1 = sortperm(temp_1, rev=true)\n",
    "    \n",
    "        if j > (ancho+1)\n",
    "            # Displace the indices starting @ \"ancho+1\"\n",
    "            index_ord_temp_1 = index_ord_temp_1 .+ (j - ancho - 1)\n",
    "        end\n",
    "        \n",
    "        for top in index_ord_temp_1\n",
    "            # Has the maximum overlaping mode already been assigned?\n",
    "            idx = findin(disponible, top)\n",
    "            if (length(idx) != 0)\n",
    "                # No, assign this mode as the corresponding one.\n",
    "                deleteat!(disponible, idx)\n",
    "                break;\n",
    "            end\n",
    "            # Yes, get the next most overlapping mode and be sure to keep track of \n",
    "            # the changes in the indices, due to removal of elements from 'temp_1'.\n",
    "        \n",
    "            if top == index_ord_temp_1[end]\n",
    "            # These are the last modes, no available replacements\n",
    "                top = 0\n",
    "                for ii = 1:length(disponible)\n",
    "                    tmp = disponible[ii]\n",
    "                    if abs(pjtions[tmp]) > top\n",
    "                        top = tmp\n",
    "                        deleteat!(disponible, ii)\n",
    "                        break\n",
    "                    end\n",
    "                end\n",
    "            end\n",
    "        end\n",
    "        \n",
    "        indices[j] = top\n",
    "    end\n",
    "\n",
    "    # Store the current modes, eigenvalues, weights and sorting indices\n",
    "    writetable(string(main_dir_long, min_cost_modes_dir, \"neq_mode_frame_\", i),\n",
    "        DataFrame(neq_modes[:, indices]), header = false, separator = '\\t')\n",
    "    writetable(string(main_dir_long, min_cost_modes_dir, \"neq_eigen_frame_\", i),\n",
    "        DataFrame(y=neq_eigen[indices]), header = false, separator = '\\t')\n",
    "    writetable(string(main_dir_long, min_cost_modes_dir, \"neq_pond_frame_\", i),\n",
    "    DataFrame(y=neq_pond[indices]), header = false, separator = '\\t')\n",
    "    writetable(string(main_dir_long, min_cost_modes_dir, \"neq_indices_frame_\", i),\n",
    "        DataFrame(y=indices), header = false, separator = '\\t')\n",
    "end"
   ]
  }
 ],
 "metadata": {
  "anaconda-cloud": {},
  "kernelspec": {
   "display_name": "Julia 0.5.0",
   "language": "julia",
   "name": "julia-0.5"
  },
  "language_info": {
   "file_extension": ".jl",
   "mimetype": "application/julia",
   "name": "julia",
   "version": "0.5.0"
  }
 },
 "nbformat": 4,
 "nbformat_minor": 1
}
