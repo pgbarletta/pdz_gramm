{
 "cells": [
  {
   "cell_type": "markdown",
   "metadata": {},
   "source": [
    "# Paso el min_cost en todas las matrices (modos) de neq y guardo:\n",
    "## - matrices finales\n",
    "## - eigenvalues\n",
    "## - ponderaciones\n",
    "# en \"min_cost_assigned\" p/ después ser leídos en los scripts de analysis"
   ]
  },
  {
   "cell_type": "code",
   "execution_count": 1,
   "metadata": {
    "collapsed": true
   },
   "outputs": [],
   "source": [
    "using DataFrames\n",
    "using Gadfly\n",
    "using Cairo\n",
    "using Distributions\n",
    "set_default_plot_size(40cm, 14cm)"
   ]
  },
  {
   "cell_type": "code",
   "execution_count": 2,
   "metadata": {
    "collapsed": false
   },
   "outputs": [
    {
     "data": {
      "text/plain": [
       "read_ptraj_modes (generic function with 3 methods)"
      ]
     },
     "execution_count": 2,
     "metadata": {},
     "output_type": "execute_result"
    }
   ],
   "source": [
    "function read_ptraj_modes(file, modes_elements, nmodes::Int64=0, norma::Bool=true)    \n",
    "\n",
    "    modes_file=open(file, \"r\")\n",
    "    modes_text = readdlm(modes_file, skipstart=0, skipblanks=true, \n",
    "    comments=true, comment_char='\\*')\n",
    "    close(modes_file)\n",
    "\n",
    "    if nmodes == 0\n",
    "        nmodes = modes_text[1, 5]\n",
    "    end\n",
    "    ncoords = convert(Int64, modes_elements)\n",
    "    lines = ceil(Int64, ncoords/7)\n",
    "    rest = convert(Int64, ncoords % 7)\n",
    "    \n",
    "    eval=Array{Float64}(nmodes);\n",
    "    mode = Array{Float64}(ncoords, nmodes);\n",
    "    temp1=Array{Float64}(ncoords, 1);\n",
    "    temp2 = Array{Float64}(ncoords+(7-rest));\n",
    "\n",
    "    j=lines + 1 + 2 # 1 p/ q lea la prox linea 2 por el header\n",
    "\n",
    "    for i=1:nmodes\n",
    "        eval[i] = modes_text[j, 2]\n",
    "        temp = permutedims(modes_text[(j+1):(lines+j), :], [2, 1])\n",
    "        temp2 = reshape(temp, ncoords+(7-rest))\n",
    "        for k=(rest+1):7\n",
    "            pop!(temp2)\n",
    "        end\n",
    "    mode[:, i] = temp2\n",
    "        j = j + lines + 1\n",
    "    end\n",
    "    \n",
    "    if norma == true\n",
    "        for i=1:nmodes\n",
    "            mode[: ,i] = mode[:, i] / norm(mode[:, i])\n",
    "        end\n",
    "    end\n",
    "    \n",
    "    return mode, eval\n",
    "end"
   ]
  },
  {
   "cell_type": "code",
   "execution_count": 3,
   "metadata": {
    "collapsed": false
   },
   "outputs": [],
   "source": [
    "# Preparo variables\n",
    "aa = 101\n",
    "aa3 = aa * 3\n",
    "aa3_6 = aa3 - 6\n",
    "n_frames = 400\n",
    "main_dir = \"/home/german/labo/16/pdz_gramm/\"\n",
    "neq_dir = \"lb_dats/\"\n",
    "neq_modes_dir = \"vecs/\"\n",
    "min_cost_modes_dir = \"min_cost_assigned/\"\n",
    "\n",
    "\n",
    "neq_pond_template = \"-lbnoteq_ca_mode_freq_nohist.dat\"       # ej: \"1\" * neq_pond_template\n",
    "neq_modes_template = \"lb_prod_vecs_ca_\"                      # ej: neq_modes_template * \"1\" * \".dat\"\n",
    "\n",
    "# Leo modos, eigenvalues y ponderaciones correspondientes al 1er frame\n",
    "pond_file = open(string(main_dir, neq_dir, 1, neq_pond_template), \"r\")\n",
    "modes_filename = string(main_dir, neq_modes_dir, neq_modes_template, 1, \".dat\")\n",
    "neq_modes_1, neq_eigen_1 = read_ptraj_modes(modes_filename, aa3);\n",
    "neq_pond_1 = readdlm(pond_file)[:, 2];"
   ]
  },
  {
   "cell_type": "code",
   "execution_count": 19,
   "metadata": {
    "collapsed": false
   },
   "outputs": [
    {
     "ename": "LoadError",
     "evalue": "ArgumentError: collection must be non-empty",
     "output_type": "error",
     "traceback": [
      "ArgumentError: collection must be non-empty",
      "",
      " in findmax(::Array{Float64,1}) at ./array.jl:1225",
      " in indmax(::Array{Float64,1}) at ./array.jl:1281",
      " in macro expansion; at ./In[19]:26 [inlined]",
      " in anonymous at ./<missing>:?"
     ]
    }
   ],
   "source": [
    "rango = collect(-10:1:10)\n",
    "disponible = collect(1:aa3_6)\n",
    "indices = Array{Int64, 1}(aa3_6)\n",
    "\n",
    "#for i in 2:n_frames\n",
    "i = 2\n",
    "    pond_file = open(string(main_dir, neq_dir, i, neq_pond_template), \"r\")\n",
    "    modes_filename = string(main_dir, neq_modes_dir, neq_modes_template, i, \".dat\")\n",
    "\n",
    "    # Get the modes/eigenvalues of the current subspace\n",
    "    neq_modes, neq_eigen = read_ptraj_modes(modes_filename, aa3);\n",
    "    \n",
    "    # Get the coefficients for the ponderation\n",
    "    neq_pond = readdlm(pond_file)[:, 2];\n",
    "    \n",
    "    # Get the projections\n",
    "    pjtions = transpose(neq_modes) * neq_modes_1\n",
    "    \n",
    "    # Get the proper sorting of modes\n",
    "    for j=1:aa3_6\n",
    "        top = Int64\n",
    "        deleted = 0\n",
    "        temp_1 = abs(pjtions[:, j])\n",
    "    \n",
    "        while (true)\n",
    "        top_old = indmax(temp_1)\n",
    "        top = top_old + deleted\n",
    "        # Has the maximum overlaping mode already been assigned?\n",
    "            idx = findin(disponible, top)\n",
    "            if (length(idx) != 0)\n",
    "            # No, assign this mode as the correct one.\n",
    "                deleteat!(disponible, idx)\n",
    "                #break;\n",
    "            end\n",
    "        # Yes, get the 2nd most overlapping mode and be sure to keep track of \n",
    "        # the changes in the indices, due to removal of elements from 'temp_1'.\n",
    "            deleteat!(temp_1, top_old)\n",
    "            deleted=+1\n",
    "        end\n",
    "        indices[j] = top\n",
    "    end\n",
    "    \n",
    "    \n"
   ]
  },
  {
   "cell_type": "code",
   "execution_count": 22,
   "metadata": {
    "collapsed": false
   },
   "outputs": [
    {
     "data": {
      "text/plain": [
       "1"
      ]
     },
     "execution_count": 22,
     "metadata": {},
     "output_type": "execute_result"
    }
   ],
   "source": [
    "j"
   ]
  },
  {
   "cell_type": "code",
   "execution_count": 20,
   "metadata": {
    "collapsed": false
   },
   "outputs": [
    {
     "data": {
      "text/plain": [
       "0-element Array{Float64,1}"
      ]
     },
     "execution_count": 20,
     "metadata": {},
     "output_type": "execute_result"
    }
   ],
   "source": [
    "temp_1"
   ]
  },
  {
   "cell_type": "code",
   "execution_count": 325,
   "metadata": {
    "collapsed": true
   },
   "outputs": [
    {
     "data": {
      "text/plain": [
       "56"
      ]
     },
     "execution_count": 325,
     "metadata": {},
     "output_type": "execute_result"
    }
   ],
   "source": [
    "top_old = indmax(temp_1)"
   ]
  },
  {
   "cell_type": "code",
   "execution_count": 18,
   "metadata": {
    "collapsed": false
   },
   "outputs": [
    {
     "data": {
      "text/plain": [
       "297-element Array{Int64,1}:\n",
       "               1\n",
       " 140315918490528\n",
       " 140315918490608\n",
       " 140315918490672\n",
       " 140315918490752\n",
       " 140315918490832\n",
       " 140315918490912\n",
       " 140315918490992\n",
       " 140315918491072\n",
       " 140315918491152\n",
       " 140315918491232\n",
       " 140315918491312\n",
       " 140315918491392\n",
       "               ⋮\n",
       " 140315918512912\n",
       " 140315918512992\n",
       " 140315918513072\n",
       " 140315918513152\n",
       " 140315918513232\n",
       " 140315918513296\n",
       " 140315918513376\n",
       " 140315918513456\n",
       " 140315918513536\n",
       " 140315918513616\n",
       " 140315817359056\n",
       " 140315817359088"
      ]
     },
     "execution_count": 18,
     "metadata": {},
     "output_type": "execute_result"
    }
   ],
   "source": [
    "indices"
   ]
  },
  {
   "cell_type": "code",
   "execution_count": 334,
   "metadata": {
    "collapsed": false,
    "scrolled": true
   },
   "outputs": [
    {
     "data": {
      "text/plain": [
       "0-element Array{Int64,1}"
      ]
     },
     "execution_count": 334,
     "metadata": {},
     "output_type": "execute_result"
    }
   ],
   "source": [
    "findin(disponible, top) "
   ]
  },
  {
   "cell_type": "code",
   "execution_count": null,
   "metadata": {
    "collapsed": true
   },
   "outputs": [],
   "source": [
    "    # Store the current modes, eigenvalues, weights and sorting indices\n",
    "    writetable(string(main_dir, min_cost_modes_dir, \"neq_mode_frame_\", i),\n",
    "        DataFrame(neq_modes[:, indices]), header = false, separator = '\\t')\n",
    "    writetable(string(main_dir, min_cost_modes_dir, \"neq_eigen_frame_\", i),\n",
    "        DataFrame(y=neq_pond[indices]), header = false, separator = '\\t')\n",
    "    writetable(string(main_dir, min_cost_modes_dir, \"neq_pond_frame_\", i),\n",
    "        DataFrame(y=neq_eigen[indices]), header = false, separator = '\\t')\n",
    "    writetable(string(main_dir, min_cost_modes_dir, \"neq_indices_frame_\", i),\n",
    "        DataFrame(y=indices), header = false, separator = '\\t')\n",
    "\n",
    "#end"
   ]
  },
  {
   "cell_type": "markdown",
   "metadata": {},
   "source": [
    "## Unfinished version with limited range"
   ]
  },
  {
   "cell_type": "markdown",
   "metadata": {
    "collapsed": true
   },
   "source": [
    "rango = collect(-10:1:10)\n",
    "modelo = collect(1:aa3_6)\n",
    "#for i in 2:n_frames\n",
    "\n",
    "i = 2\n",
    "    pond_file = open(string(main_dir, neq_dir, i, neq_pond_template), \"r\")\n",
    "    modes_filename = string(main_dir, neq_modes_dir, neq_modes_template, i, \".dat\")\n",
    "\n",
    "    # Get the modes/eigenvalues of the current subspace\n",
    "    neq_modes, neq_eigen = read_ptraj_modes(modes_filename, aa3);\n",
    "    \n",
    "    # Get the coefficients for the ponderation\n",
    "    neq_pond = readdlm(pond_file)[:, 2];\n",
    "    \n",
    "    # Get the projections\n",
    "    pjtions = transpose(neq_modes) * neq_modes_list[1]\n",
    "    indices = Array{Int64, 1}(aa3_6)\n",
    "    # Get the proper sorting of modes\n",
    "    for j=1:aa3_6\n",
    "        chunk = rango[0 .< (rango.+j) .< aa3_6 ] .+ j\n",
    "        \n",
    "chunk = rango[0 .< (rango.+j) .< aa3_6 ] .+ j        \n",
    "n = length(chunk)\n",
    "temp_1 = abs(pjtions[:, j])\n",
    "top = indmax(temp_1) + (chunk[1] - 1)\n",
    "    #indices[j]\n",
    "    end\n",
    "    \n",
    "    \n",
    "    # Store the current modes, eigenvalues and weights\n",
    "    neq_modes_list[i] = neq_modes;\n",
    "    neq_eigen_list[i] = neq_eigen;\n",
    "\n",
    "#end"
   ]
  }
 ],
 "metadata": {
  "anaconda-cloud": {},
  "kernelspec": {
   "display_name": "Julia 0.5.0",
   "language": "julia",
   "name": "julia-0.5"
  },
  "language_info": {
   "file_extension": ".jl",
   "mimetype": "application/julia",
   "name": "julia",
   "version": "0.5.0"
  }
 },
 "nbformat": 4,
 "nbformat_minor": 1
}
